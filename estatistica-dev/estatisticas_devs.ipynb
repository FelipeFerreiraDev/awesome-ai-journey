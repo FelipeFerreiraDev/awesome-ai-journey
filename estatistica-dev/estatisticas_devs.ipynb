{
 "cells": [
  {
   "cell_type": "code",
   "execution_count": 1,
   "id": "b5362235",
   "metadata": {},
   "outputs": [],
   "source": [
    "import pandas as pd"
   ]
  },
  {
   "cell_type": "code",
   "execution_count": 3,
   "id": "6369b6fd",
   "metadata": {},
   "outputs": [
    {
     "data": {
      "text/plain": [
       "'2.3.0'"
      ]
     },
     "execution_count": 3,
     "metadata": {},
     "output_type": "execute_result"
    }
   ],
   "source": [
    "pd.__version__"
   ]
  },
  {
   "cell_type": "code",
   "execution_count": 14,
   "id": "862b11a9",
   "metadata": {},
   "outputs": [],
   "source": [
    "dict_medidas = {'idades': [18, 20, 22, 22, 25, 30, 35, 40, 45, 50, 55],\n",
    "    'alturas': [1.60, 1.65, 1.67, 1.70, 1.75, 1.80, 1.85, 1.90, 1.95, 2.00, 2.05],\n",
    "}"
   ]
  },
  {
   "cell_type": "code",
   "execution_count": 15,
   "id": "8b8080cf",
   "metadata": {},
   "outputs": [
    {
     "data": {
      "text/plain": [
       "{'idades': [18, 20, 22, 22, 25, 30, 35, 40, 45, 50, 55],\n",
       " 'alturas': [1.6, 1.65, 1.67, 1.7, 1.75, 1.8, 1.85, 1.9, 1.95, 2.0, 2.05]}"
      ]
     },
     "execution_count": 15,
     "metadata": {},
     "output_type": "execute_result"
    }
   ],
   "source": [
    "dict_medidas"
   ]
  },
  {
   "cell_type": "code",
   "execution_count": 16,
   "id": "8fd83d5e",
   "metadata": {},
   "outputs": [],
   "source": [
    "df_medidas = pd.DataFrame.from_dict(dict_medidas)"
   ]
  },
  {
   "cell_type": "code",
   "execution_count": 17,
   "id": "0c0bb998",
   "metadata": {},
   "outputs": [
    {
     "data": {
      "text/html": [
       "<div>\n",
       "<style scoped>\n",
       "    .dataframe tbody tr th:only-of-type {\n",
       "        vertical-align: middle;\n",
       "    }\n",
       "\n",
       "    .dataframe tbody tr th {\n",
       "        vertical-align: top;\n",
       "    }\n",
       "\n",
       "    .dataframe thead th {\n",
       "        text-align: right;\n",
       "    }\n",
       "</style>\n",
       "<table border=\"1\" class=\"dataframe\">\n",
       "  <thead>\n",
       "    <tr style=\"text-align: right;\">\n",
       "      <th></th>\n",
       "      <th>idades</th>\n",
       "      <th>alturas</th>\n",
       "    </tr>\n",
       "  </thead>\n",
       "  <tbody>\n",
       "    <tr>\n",
       "      <th>0</th>\n",
       "      <td>18</td>\n",
       "      <td>1.60</td>\n",
       "    </tr>\n",
       "    <tr>\n",
       "      <th>1</th>\n",
       "      <td>20</td>\n",
       "      <td>1.65</td>\n",
       "    </tr>\n",
       "    <tr>\n",
       "      <th>2</th>\n",
       "      <td>22</td>\n",
       "      <td>1.67</td>\n",
       "    </tr>\n",
       "    <tr>\n",
       "      <th>3</th>\n",
       "      <td>22</td>\n",
       "      <td>1.70</td>\n",
       "    </tr>\n",
       "    <tr>\n",
       "      <th>4</th>\n",
       "      <td>25</td>\n",
       "      <td>1.75</td>\n",
       "    </tr>\n",
       "    <tr>\n",
       "      <th>5</th>\n",
       "      <td>30</td>\n",
       "      <td>1.80</td>\n",
       "    </tr>\n",
       "    <tr>\n",
       "      <th>6</th>\n",
       "      <td>35</td>\n",
       "      <td>1.85</td>\n",
       "    </tr>\n",
       "    <tr>\n",
       "      <th>7</th>\n",
       "      <td>40</td>\n",
       "      <td>1.90</td>\n",
       "    </tr>\n",
       "    <tr>\n",
       "      <th>8</th>\n",
       "      <td>45</td>\n",
       "      <td>1.95</td>\n",
       "    </tr>\n",
       "    <tr>\n",
       "      <th>9</th>\n",
       "      <td>50</td>\n",
       "      <td>2.00</td>\n",
       "    </tr>\n",
       "    <tr>\n",
       "      <th>10</th>\n",
       "      <td>55</td>\n",
       "      <td>2.05</td>\n",
       "    </tr>\n",
       "  </tbody>\n",
       "</table>\n",
       "</div>"
      ],
      "text/plain": [
       "    idades  alturas\n",
       "0       18     1.60\n",
       "1       20     1.65\n",
       "2       22     1.67\n",
       "3       22     1.70\n",
       "4       25     1.75\n",
       "5       30     1.80\n",
       "6       35     1.85\n",
       "7       40     1.90\n",
       "8       45     1.95\n",
       "9       50     2.00\n",
       "10      55     2.05"
      ]
     },
     "execution_count": 17,
     "metadata": {},
     "output_type": "execute_result"
    }
   ],
   "source": [
    "df_medidas"
   ]
  },
  {
   "cell_type": "markdown",
   "id": "c739c94b",
   "metadata": {},
   "source": [
    "### Medidas Resumo"
   ]
  },
  {
   "cell_type": "markdown",
   "id": "f5d63be1",
   "metadata": {},
   "source": [
    "#### Medidas de posicão"
   ]
  },
  {
   "cell_type": "code",
   "execution_count": 18,
   "id": "a07d4ea7",
   "metadata": {},
   "outputs": [
    {
     "data": {
      "text/plain": [
       "np.float64(32.90909090909091)"
      ]
     },
     "execution_count": 18,
     "metadata": {},
     "output_type": "execute_result"
    }
   ],
   "source": [
    "# Média\n",
    "df_medidas[\"idades\"].mean()"
   ]
  },
  {
   "cell_type": "code",
   "execution_count": 19,
   "id": "de9e33c0",
   "metadata": {},
   "outputs": [
    {
     "data": {
      "text/plain": [
       "np.float64(30.0)"
      ]
     },
     "execution_count": 19,
     "metadata": {},
     "output_type": "execute_result"
    }
   ],
   "source": [
    "# Mediana\n",
    "df_medidas[\"idades\"].median()"
   ]
  },
  {
   "cell_type": "code",
   "execution_count": 20,
   "id": "8f94e4b8",
   "metadata": {},
   "outputs": [
    {
     "data": {
      "text/plain": [
       "0    22\n",
       "Name: idades, dtype: int64"
      ]
     },
     "execution_count": 20,
     "metadata": {},
     "output_type": "execute_result"
    }
   ],
   "source": [
    "# Moda\n",
    "df_medidas[\"idades\"].mode()"
   ]
  },
  {
   "cell_type": "markdown",
   "id": "9307af83",
   "metadata": {},
   "source": [
    "#### Medidas de dispersão"
   ]
  },
  {
   "cell_type": "code",
   "execution_count": null,
   "id": "e952b7b7",
   "metadata": {},
   "outputs": [
    {
     "data": {
      "text/plain": [
       "np.float64(167.89090909090908)"
      ]
     },
     "execution_count": 22,
     "metadata": {},
     "output_type": "execute_result"
    }
   ],
   "source": [
    "# Variância\n",
    "df_medidas[\"idades\"].var()"
   ]
  },
  {
   "cell_type": "code",
   "execution_count": 23,
   "id": "9c4026c7",
   "metadata": {},
   "outputs": [
    {
     "data": {
      "text/plain": [
       "np.float64(12.95727244025181)"
      ]
     },
     "execution_count": 23,
     "metadata": {},
     "output_type": "execute_result"
    }
   ],
   "source": [
    "# Desvio Padrão\n",
    "df_medidas[\"idades\"].std()"
   ]
  },
  {
   "cell_type": "code",
   "execution_count": null,
   "id": "feb46971",
   "metadata": {},
   "outputs": [
    {
     "data": {
      "text/plain": [
       "np.float64(39.372927304632576)"
      ]
     },
     "execution_count": 25,
     "metadata": {},
     "output_type": "execute_result"
    }
   ],
   "source": [
    "# Coeficiente de Variação - Idades\n",
    "df_medidas[\"idades\"].std() / df_medidas[\"idades\"].mean() * 100"
   ]
  },
  {
   "cell_type": "code",
   "execution_count": 26,
   "id": "5048f4c2",
   "metadata": {},
   "outputs": [
    {
     "data": {
      "text/plain": [
       "np.float64(8.339832710078943)"
      ]
     },
     "execution_count": 26,
     "metadata": {},
     "output_type": "execute_result"
    }
   ],
   "source": [
    "# Coeficiente de Variação - Alturas\n",
    "df_medidas[\"alturas\"].std() / df_medidas[\"alturas\"].mean() * 100"
   ]
  },
  {
   "cell_type": "markdown",
   "id": "8243b242",
   "metadata": {},
   "source": [
    "#### Medidas de forma"
   ]
  },
  {
   "cell_type": "code",
   "execution_count": 28,
   "id": "4dbd70b7",
   "metadata": {},
   "outputs": [
    {
     "data": {
      "text/plain": [
       "np.float64(0.5239058421603493)"
      ]
     },
     "execution_count": 28,
     "metadata": {},
     "output_type": "execute_result"
    }
   ],
   "source": [
    "# Assimetria - Idades\n",
    "df_medidas[\"idades\"].skew()"
   ]
  },
  {
   "cell_type": "code",
   "execution_count": 29,
   "id": "7590f8d9",
   "metadata": {},
   "outputs": [
    {
     "data": {
      "text/plain": [
       "np.float64(0.2110701167694301)"
      ]
     },
     "execution_count": 29,
     "metadata": {},
     "output_type": "execute_result"
    }
   ],
   "source": [
    "# Assimetria - Alturas\n",
    "df_medidas[\"alturas\"].skew()"
   ]
  },
  {
   "cell_type": "code",
   "execution_count": 31,
   "id": "d7f063ea",
   "metadata": {},
   "outputs": [
    {
     "data": {
      "text/plain": [
       "np.float64(-1.195057367961787)"
      ]
     },
     "execution_count": 31,
     "metadata": {},
     "output_type": "execute_result"
    }
   ],
   "source": [
    "# Curtose - Idades\n",
    "df_medidas[\"idades\"].kurtosis()"
   ]
  },
  {
   "cell_type": "code",
   "execution_count": 33,
   "id": "20b474a7",
   "metadata": {},
   "outputs": [
    {
     "data": {
      "text/plain": [
       "np.float64(-1.2790834621508456)"
      ]
     },
     "execution_count": 33,
     "metadata": {},
     "output_type": "execute_result"
    }
   ],
   "source": [
    "# Curtose - Alturas\n",
    "df_medidas[\"alturas\"].kurtosis()"
   ]
  },
  {
   "cell_type": "code",
   "execution_count": 35,
   "id": "a9642fab",
   "metadata": {},
   "outputs": [
    {
     "data": {
      "text/plain": [
       "count    11.000000\n",
       "mean     32.909091\n",
       "std      12.957272\n",
       "min      18.000000\n",
       "25%      22.000000\n",
       "50%      30.000000\n",
       "75%      42.500000\n",
       "max      55.000000\n",
       "Name: idades, dtype: float64"
      ]
     },
     "execution_count": 35,
     "metadata": {},
     "output_type": "execute_result"
    }
   ],
   "source": [
    "# Obter as medidas estatísticas resumo\n",
    "df_medidas[\"idades\"].describe()"
   ]
  },
  {
   "cell_type": "code",
   "execution_count": null,
   "id": "3c253d84",
   "metadata": {},
   "outputs": [],
   "source": []
  }
 ],
 "metadata": {
  "kernelspec": {
   "display_name": "estatistica-dev-X5HXEIBk",
   "language": "python",
   "name": "python3"
  },
  "language_info": {
   "codemirror_mode": {
    "name": "ipython",
    "version": 3
   },
   "file_extension": ".py",
   "mimetype": "text/x-python",
   "name": "python",
   "nbconvert_exporter": "python",
   "pygments_lexer": "ipython3",
   "version": "3.11.0"
  }
 },
 "nbformat": 4,
 "nbformat_minor": 5
}
